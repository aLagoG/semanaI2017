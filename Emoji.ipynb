{
 "cells": [
  {
   "cell_type": "code",
   "execution_count": 12,
   "metadata": {},
   "outputs": [],
   "source": [
    "#!/usr/bin/env python\n",
    "\n",
    "from Tweets import *\n",
    "import csv\n",
    "\n",
    "tweets = read_json_file('results_no_emoji_clean.json')\n",
    "counts = {}\n",
    "for tweet in tweets:\n",
    "    for emoji in tweet.emoji:\n",
    "        if emoji in counts:\n",
    "            counts[emoji] += 1\n",
    "        else:\n",
    "            counts[emoji] = 1"
   ]
  },
  {
   "cell_type": "code",
   "execution_count": 13,
   "metadata": {},
   "outputs": [
    {
     "name": "stdout",
     "output_type": "stream",
     "text": [
      "102\n",
      "2664\n"
     ]
    }
   ],
   "source": [
    "su = 0\n",
    "for emoji in counts:\n",
    "    su += counts[emoji]\n",
    "print(len(counts))\n",
    "print(su)"
   ]
  },
  {
   "cell_type": "code",
   "execution_count": 14,
   "metadata": {},
   "outputs": [
    {
     "name": "stdout",
     "output_type": "stream",
     "text": [
      "15\n",
      "🤔\n",
      "😂\n",
      "🖕\n",
      "❤\n",
      "🙄\n",
      "😡\n",
      "😠\n",
      "👍\n",
      "👎\n",
      "🤣\n",
      "👏\n",
      "👇\n",
      "🙏\n",
      "✊\n",
      "😆\n"
     ]
    }
   ],
   "source": [
    "counts = {emoji: counts[emoji] for emoji in counts if counts[emoji] >= 35}\n",
    "print(len(counts))\n",
    "for emoji in counts:\n",
    "    print(emoji)"
   ]
  },
  {
   "cell_type": "code",
   "execution_count": 15,
   "metadata": {},
   "outputs": [
    {
     "name": "stdout",
     "output_type": "stream",
     "text": [
      "Done\n"
     ]
    }
   ],
   "source": [
    "with open('emoji.csv', 'w') as f:\n",
    "    writer = csv.writer(\n",
    "        f, delimiter=',', quoting=csv.QUOTE_MINIMAL, quotechar='\"')\n",
    "    writer.writerow(['emoji', 'count'])\n",
    "    for emoji in counts:\n",
    "        writer.writerow([emoji, counts[emoji]])\n",
    "print(\"Done\")"
   ]
  }
 ],
 "metadata": {
  "kernelspec": {
   "display_name": "Python 3",
   "language": "python",
   "name": "python3"
  },
  "language_info": {
   "codemirror_mode": {
    "name": "ipython",
    "version": 3
   },
   "file_extension": ".py",
   "mimetype": "text/x-python",
   "name": "python",
   "nbconvert_exporter": "python",
   "pygments_lexer": "ipython3",
   "version": "3.6.1"
  }
 },
 "nbformat": 4,
 "nbformat_minor": 2
}
